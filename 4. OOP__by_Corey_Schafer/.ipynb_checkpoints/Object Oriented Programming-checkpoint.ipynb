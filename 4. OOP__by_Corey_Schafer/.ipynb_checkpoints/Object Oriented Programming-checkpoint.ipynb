{
 "cells": [
  {
   "cell_type": "markdown",
   "metadata": {},
   "source": [
    "# Object Oriented Programming\n",
    "The codes used were taken from tutorial of Corey Schafer"
   ]
  },
  {
   "cell_type": "markdown",
   "metadata": {},
   "source": [
    "### Python Object-Oriented Programming\n",
    "* METHOD is a function associated with a class\n",
    "* ATTRIBUTE is a data associated with a class"
   ]
  },
  {
   "cell_type": "markdown",
   "metadata": {},
   "source": [
    "### Introduction"
   ]
  },
  {
   "cell_type": "code",
   "execution_count": 1,
   "metadata": {},
   "outputs": [],
   "source": [
    "class Employee:\n",
    "    pass"
   ]
  },
  {
   "cell_type": "markdown",
   "metadata": {},
   "source": [
    "INSTANCE - We can think of an instance as 'BIRTH' or 'CONSTRUCTION' of something. So if we pass an instance of class Employee. We are making a Employee. That means, if we pass two instances, then we made two employees as well."
   ]
  },
  {
   "cell_type": "code",
   "execution_count": 2,
   "metadata": {},
   "outputs": [],
   "source": [
    "employee1 = Employee()\n",
    "employee2 = Employee()"
   ]
  },
  {
   "cell_type": "markdown",
   "metadata": {},
   "source": [
    "To check that both instances passed are unique, we can print their memory addresses and see that they are not equal."
   ]
  },
  {
   "cell_type": "code",
   "execution_count": 3,
   "metadata": {},
   "outputs": [
    {
     "name": "stdout",
     "output_type": "stream",
     "text": [
      "<__main__.Employee object at 0x00000153EE4ACA20>\n",
      "<__main__.Employee object at 0x00000153EE4ACA58>\n",
      "They are not the same!\n"
     ]
    }
   ],
   "source": [
    "print(employee1)\n",
    "print(employee2)\n",
    "if employee1 != employee2:\n",
    "    print('They are not the same!')"
   ]
  },
  {
   "cell_type": "markdown",
   "metadata": {},
   "source": [
    "To understand very well the purpose or OOP itself, we need to cite a program and implementation on how to do it.\n",
    "\n",
    "Say we want to make a program that tracks Employees records."
   ]
  },
  {
   "cell_type": "code",
   "execution_count": 4,
   "metadata": {},
   "outputs": [],
   "source": [
    "employee1.first_name = 'Bob'\n",
    "employee1.last_name = 'Charlie'\n",
    "employee1.email = 'Bob_Charlie@gmail.com'\n",
    "\n",
    "employee2.first_name = 'Amy'\n",
    "employee2.last_name = 'Donald'\n",
    "employee2.email = 'Amy_Donald@gmail.com'"
   ]
  },
  {
   "cell_type": "markdown",
   "metadata": {},
   "source": [
    "So, if we want to print employee1 first name:"
   ]
  },
  {
   "cell_type": "code",
   "execution_count": 5,
   "metadata": {},
   "outputs": [
    {
     "name": "stdout",
     "output_type": "stream",
     "text": [
      "Bob\n"
     ]
    }
   ],
   "source": [
    "print(employee1.first_name)"
   ]
  },
  {
   "cell_type": "markdown",
   "metadata": {},
   "source": [
    "And if somehow our company hired more employees, the pattern continues on adding each employees records\n",
    "* employeen.first_name = 'First Name'\n",
    "* employeen.last_name = 'Last Name'\n",
    "* employeen.email = 'First Name_Last Name@gmail.com'"
   ]
  },
  {
   "cell_type": "markdown",
   "metadata": {},
   "source": [
    "                                    <intentional space> "
   ]
  },
  {
   "cell_type": "markdown",
   "metadata": {},
   "source": [
    "### The def init"
   ]
  },
  {
   "cell_type": "raw",
   "metadata": {},
   "source": [
    "class Employee:\n",
    "    raise_percentage = 5\n",
    "    num_employees = 0"
   ]
  },
  {
   "cell_type": "markdown",
   "metadata": {},
   "source": [
    "def __init__ is where we define our Attributes of our class/object."
   ]
  },
  {
   "cell_type": "raw",
   "metadata": {},
   "source": [
    "    def __init__(self, first_name, last_name, pay):  "
   ]
  },
  {
   "cell_type": "markdown",
   "metadata": {},
   "source": [
    "'self' is always the first argument although is not required to name it as self. But conventionally, this is how programmers naming it."
   ]
  },
  {
   "cell_type": "raw",
   "metadata": {},
   "source": [
    "        self.first_name = first_name"
   ]
  },
  {
   "cell_type": "markdown",
   "metadata": {},
   "source": [
    "Take note that the left 'first_name' or the self.first_name is an attribute of the class and the right 'first_name' is an argument inside def __init__(). They are not required to be the same, say:"
   ]
  },
  {
   "cell_type": "raw",
   "metadata": {},
   "source": [
    "        self.first_name = first\n",
    "        self.firstName = first_name"
   ]
  },
  {
   "cell_type": "markdown",
   "metadata": {},
   "source": [
    "It is just conventional to programmers to use the same words in attributes and arguments"
   ]
  },
  {
   "cell_type": "raw",
   "metadata": {},
   "source": [
    "        self.last_name = last_name\n",
    "        self.email = '{}_{}@gmail.com'.format(first_name,last_name)\n",
    "        self.pay = pay"
   ]
  },
  {
   "cell_type": "markdown",
   "metadata": {},
   "source": [
    "##### Full code:"
   ]
  },
  {
   "cell_type": "code",
   "execution_count": 6,
   "metadata": {},
   "outputs": [],
   "source": [
    "class Employee:\n",
    "    raise_percentage = 5\n",
    "    num_employees = 0\n",
    "\n",
    "    def __init__(self, first_name, last_name, pay):  \n",
    "        self.first_name = first_name\n",
    "        self.last_name = last_name\n",
    "        self.email = '{}_{}@gmail.com'.format(first_name,last_name)\n",
    "        self.pay = pay"
   ]
  },
  {
   "cell_type": "markdown",
   "metadata": {},
   "source": [
    "                                    <intentional space> "
   ]
  },
  {
   "cell_type": "markdown",
   "metadata": {},
   "source": [
    "### Creating Instances"
   ]
  },
  {
   "cell_type": "markdown",
   "metadata": {},
   "source": [
    "Creating instances or giving birth!"
   ]
  },
  {
   "cell_type": "code",
   "execution_count": 7,
   "metadata": {},
   "outputs": [],
   "source": [
    "employee1 = Employee('Bob', 'Charlie', 30)\n",
    "employee2 = Employee('Amy', 'Donald', 30)"
   ]
  },
  {
   "cell_type": "code",
   "execution_count": 8,
   "metadata": {},
   "outputs": [
    {
     "name": "stdout",
     "output_type": "stream",
     "text": [
      "Bob_Charlie@gmail.com\n"
     ]
    }
   ],
   "source": [
    "# Printing the email\n",
    "print(employee1.email)"
   ]
  },
  {
   "cell_type": "markdown",
   "metadata": {},
   "source": [
    "                                    <intentional space> "
   ]
  },
  {
   "cell_type": "markdown",
   "metadata": {},
   "source": [
    "### Methods"
   ]
  },
  {
   "cell_type": "code",
   "execution_count": 9,
   "metadata": {},
   "outputs": [
    {
     "name": "stdout",
     "output_type": "stream",
     "text": [
      "Bob Charlie\n"
     ]
    }
   ],
   "source": [
    "# Now moving to methods, say we want to print the full name of our employees.\n",
    "print('{} {}'.format(employee1.first_name, employee1.last_name))"
   ]
  },
  {
   "cell_type": "raw",
   "metadata": {},
   "source": [
    "However, again, if we want to print out another employees name, we would have to write the whole\n",
    "\n",
    "print('{} {}'.format(employee1.first_name, employee1.last_name))\n",
    "\n",
    "code again. And this is where METHODS comes into play: "
   ]
  },
  {
   "cell_type": "raw",
   "metadata": {},
   "source": [
    "    def fullname(self):\n",
    "        print('{} {}'.format(self.first_name, self.last_name))"
   ]
  },
  {
   "cell_type": "markdown",
   "metadata": {},
   "source": [
    "##### Full code:"
   ]
  },
  {
   "cell_type": "code",
   "execution_count": 10,
   "metadata": {},
   "outputs": [],
   "source": [
    "class Employee:\n",
    "    raise_percentage = 5\n",
    "    num_employees = 0\n",
    "\n",
    "    def __init__(self, first_name, last_name, pay):  \n",
    "        self.first_name = first_name\n",
    "        self.last_name = last_name\n",
    "        self.email = '{}_{}@gmail.com'.format(first_name,last_name)\n",
    "        self.pay = pay\n",
    "    def fullname(self):\n",
    "        print('{} {}'.format(self.first_name, self.last_name))\n",
    "\n",
    "employee1 = Employee('Bob', 'Charlie', 30)\n",
    "employee2 = Employee('Amy', 'Donald', 30)"
   ]
  },
  {
   "cell_type": "markdown",
   "metadata": {},
   "source": [
    "Printing the employee's fullname using METHODS:"
   ]
  },
  {
   "cell_type": "code",
   "execution_count": 11,
   "metadata": {
    "scrolled": false
   },
   "outputs": [
    {
     "name": "stdout",
     "output_type": "stream",
     "text": [
      "Bob Charlie\n",
      "Amy Donald\n"
     ]
    }
   ],
   "source": [
    "employee1.fullname()\n",
    "employee2.fullname()"
   ]
  },
  {
   "cell_type": "markdown",
   "metadata": {},
   "source": [
    "Now instead of typing the whole code. We just have to call the proper self to print the full name."
   ]
  },
  {
   "cell_type": "markdown",
   "metadata": {},
   "source": [
    "                                    <intentional space> "
   ]
  },
  {
   "cell_type": "markdown",
   "metadata": {},
   "source": [
    "### Two Way Methods\n",
    "There are two ways to call a method inside a class:"
   ]
  },
  {
   "cell_type": "markdown",
   "metadata": {},
   "source": [
    "* INSTANCE.METHOD\n"
   ]
  },
  {
   "cell_type": "code",
   "execution_count": 12,
   "metadata": {},
   "outputs": [
    {
     "name": "stdout",
     "output_type": "stream",
     "text": [
      "Bob Charlie\n"
     ]
    }
   ],
   "source": [
    "employee1.fullname()   # employee1 = Instance\n",
    "                       # fullname() = Method"
   ]
  },
  {
   "cell_type": "markdown",
   "metadata": {},
   "source": [
    "* CLASS.METHOD(INSTANCE)\n"
   ]
  },
  {
   "cell_type": "code",
   "execution_count": 13,
   "metadata": {},
   "outputs": [
    {
     "name": "stdout",
     "output_type": "stream",
     "text": [
      "Bob Charlie\n"
     ]
    }
   ],
   "source": [
    "Employee.fullname(employee1)   # Employee = Class\n",
    "                               # fullname = Method\n",
    "                               # employee1 = Instance"
   ]
  },
  {
   "cell_type": "markdown",
   "metadata": {},
   "source": [
    "                                    <intentional space> "
   ]
  },
  {
   "cell_type": "markdown",
   "metadata": {},
   "source": [
    "### Class Variables\n",
    "\n",
    "Say we want to increase the wages of our employees and clearly not all employees would have the same increase every year. So say for example, that the company offers a standard increase of 5% each year. And a bonus of another 5% to those outstanding employees. And we want to print out their new salary after the increase."
   ]
  },
  {
   "cell_type": "code",
   "execution_count": 14,
   "metadata": {},
   "outputs": [
    {
     "ename": "AttributeError",
     "evalue": "'Employee' object has no attribute 'apply_raise'",
     "output_type": "error",
     "traceback": [
      "\u001b[1;31m---------------------------------------------------------------------------\u001b[0m",
      "\u001b[1;31mAttributeError\u001b[0m                            Traceback (most recent call last)",
      "\u001b[1;32m<ipython-input-14-14e3825450b6>\u001b[0m in \u001b[0;36m<module>\u001b[1;34m\u001b[0m\n\u001b[1;32m----> 1\u001b[1;33m \u001b[0memployee1\u001b[0m\u001b[1;33m.\u001b[0m\u001b[0mapply_raise\u001b[0m\u001b[1;33m(\u001b[0m\u001b[1;33m)\u001b[0m\u001b[1;33m\u001b[0m\u001b[1;33m\u001b[0m\u001b[0m\n\u001b[0m\u001b[0;32m      2\u001b[0m \u001b[0memployee2\u001b[0m\u001b[1;33m.\u001b[0m\u001b[0mapply_raise\u001b[0m\u001b[1;33m(\u001b[0m\u001b[1;33m)\u001b[0m\u001b[1;33m\u001b[0m\u001b[1;33m\u001b[0m\u001b[0m\n",
      "\u001b[1;31mAttributeError\u001b[0m: 'Employee' object has no attribute 'apply_raise'"
     ]
    }
   ],
   "source": [
    "employee1.apply_raise()\n",
    "employee2.apply_raise()"
   ]
  },
  {
   "cell_type": "markdown",
   "metadata": {},
   "source": [
    "And say, employee2 is outstanding and employee1 is not. And so we need to change 'raise_percentage' value for employee2. However, changing class variable would change for employee1 as well."
   ]
  },
  {
   "cell_type": "code",
   "execution_count": null,
   "metadata": {},
   "outputs": [],
   "source": [
    "Employee.raise_percentage = 10 \n",
    "employee1.apply_raise()\n",
    "employee2.apply_raise()"
   ]
  },
  {
   "cell_type": "markdown",
   "metadata": {},
   "source": [
    "Bring back the percentage to 5:"
   ]
  },
  {
   "cell_type": "code",
   "execution_count": null,
   "metadata": {},
   "outputs": [],
   "source": [
    "Employee.raise_percentage = 5 "
   ]
  },
  {
   "cell_type": "markdown",
   "metadata": {},
   "source": [
    "Well, instead of changing the class variable, we could add the class variable as an attribute to an instance. Using .__dict__ will show the attributes of class or a instance. To check all attributes of instance employee1 and class Employee:"
   ]
  },
  {
   "cell_type": "code",
   "execution_count": null,
   "metadata": {},
   "outputs": [],
   "source": [
    "print('INSTANCE ATTRIB: {}'.format(employee1.__dict__))\n",
    "print('CLASS ATTRIB: {}'.format(Employee.__dict__))"
   ]
  },
  {
   "cell_type": "markdown",
   "metadata": {},
   "source": [
    "We can see that the instance has no attribute raise_percentage but the class have. So we add raise_percentage as attribute for the instance."
   ]
  },
  {
   "cell_type": "code",
   "execution_count": null,
   "metadata": {},
   "outputs": [],
   "source": [
    "employee1.raise_percentage = 10\n",
    "print('INSTANCE ATTRIB_NEW: {}'.format(employee1.__dict__))\n",
    "print('CLASS ATTRIB_NEW: {}'.format(Employee.__dict__))"
   ]
  },
  {
   "cell_type": "markdown",
   "metadata": {},
   "source": [
    "And from here we can instance value of raise_percentage without changing the class raise_percentage."
   ]
  },
  {
   "cell_type": "code",
   "execution_count": null,
   "metadata": {},
   "outputs": [],
   "source": [
    "employee1.apply_raise()\n",
    "employee2.apply_raise()"
   ]
  },
  {
   "cell_type": "markdown",
   "metadata": {},
   "source": [
    "And lets say we want to count how many employees do we have. We would want to have a function inside __init__ that adds everytime it is being executed."
   ]
  },
  {
   "cell_type": "code",
   "execution_count": null,
   "metadata": {},
   "outputs": [],
   "source": [
    "print(Employee.num_employees)"
   ]
  }
 ],
 "metadata": {
  "kernelspec": {
   "display_name": "Python 3",
   "language": "python",
   "name": "python3"
  },
  "language_info": {
   "codemirror_mode": {
    "name": "ipython",
    "version": 3
   },
   "file_extension": ".py",
   "mimetype": "text/x-python",
   "name": "python",
   "nbconvert_exporter": "python",
   "pygments_lexer": "ipython3",
   "version": "3.7.3"
  }
 },
 "nbformat": 4,
 "nbformat_minor": 2
}
