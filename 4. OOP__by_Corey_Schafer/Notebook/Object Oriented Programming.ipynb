{
 "cells": [
  {
   "cell_type": "markdown",
   "metadata": {},
   "source": [
    "# Object Oriented Programming\n",
    "The codes used were taken from tutorial of Corey Schafer"
   ]
  },
  {
   "cell_type": "markdown",
   "metadata": {},
   "source": [
    "### Python Object-Oriented Programming\n",
    "* METHOD is a function associated with a class\n",
    "* ATTRIBUTE is a data associated with a class"
   ]
  },
  {
   "cell_type": "markdown",
   "metadata": {},
   "source": [
    "### Introduction"
   ]
  },
  {
   "cell_type": "code",
   "execution_count": 1,
   "metadata": {},
   "outputs": [],
   "source": [
    "class Employee:\n",
    "    pass"
   ]
  },
  {
   "cell_type": "markdown",
   "metadata": {},
   "source": [
    "INSTANCE - We can think of an instance as 'BIRTH' or 'CONSTRUCTION' of something. So if we pass an instance of class Employee. We are making a Employee. That means, if we pass two instances, then we made two employees as well."
   ]
  },
  {
   "cell_type": "code",
   "execution_count": 2,
   "metadata": {},
   "outputs": [],
   "source": [
    "employee1 = Employee()\n",
    "employee2 = Employee()"
   ]
  },
  {
   "cell_type": "markdown",
   "metadata": {},
   "source": [
    "To check that both instances passed are unique, we can print their memory addresses and see that they are not equal."
   ]
  },
  {
   "cell_type": "code",
   "execution_count": 3,
   "metadata": {},
   "outputs": [
    {
     "name": "stdout",
     "output_type": "stream",
     "text": [
      "<__main__.Employee object at 0x0000027AF5FE6470>\n",
      "<__main__.Employee object at 0x0000027AF5FBCFD0>\n",
      "They are not the same!\n"
     ]
    }
   ],
   "source": [
    "print(employee1)\n",
    "print(employee2)\n",
    "if employee1 != employee2:\n",
    "    print('They are not the same!')"
   ]
  },
  {
   "cell_type": "markdown",
   "metadata": {},
   "source": [
    "To understand very well the purpose or OOP itself, we need to cite a program and implementation on how to do it.\n",
    "\n",
    "Say we want to make a program that tracks Employees records."
   ]
  },
  {
   "cell_type": "code",
   "execution_count": 4,
   "metadata": {},
   "outputs": [],
   "source": [
    "employee1.first_name = 'Bob'\n",
    "employee1.last_name = 'Charlie'\n",
    "employee1.email = 'Bob_Charlie@gmail.com'\n",
    "\n",
    "employee2.first_name = 'Amy'\n",
    "employee2.last_name = 'Donald'\n",
    "employee2.email = 'Amy_Donald@gmail.com'"
   ]
  },
  {
   "cell_type": "markdown",
   "metadata": {},
   "source": [
    "So, if we want to print employee1 first name:"
   ]
  },
  {
   "cell_type": "code",
   "execution_count": 5,
   "metadata": {},
   "outputs": [
    {
     "name": "stdout",
     "output_type": "stream",
     "text": [
      "Bob\n"
     ]
    }
   ],
   "source": [
    "print(employee1.first_name)"
   ]
  },
  {
   "cell_type": "markdown",
   "metadata": {},
   "source": [
    "And if somehow our company hired more employees, the pattern continues on adding each employees records\n",
    "employeen.first_name = 'First Name'\n",
    "employeen.last_name = 'Last Name'\n",
    "employeen.email =  'FirstName_LastName@gmail.com'"
   ]
  },
  {
   "cell_type": "markdown",
   "metadata": {},
   "source": [
    "                                    <intentional space> "
   ]
  },
  {
   "cell_type": "markdown",
   "metadata": {},
   "source": [
    "### The def init"
   ]
  },
  {
   "cell_type": "raw",
   "metadata": {},
   "source": [
    "class Employee:\n",
    "    raise_percentage = 5\n",
    "    num_employees = 0"
   ]
  },
  {
   "cell_type": "markdown",
   "metadata": {},
   "source": [
    "def __init__ is where we define our Attributes of our class/object."
   ]
  },
  {
   "cell_type": "raw",
   "metadata": {},
   "source": [
    "    def __init__(self, first_name, last_name, pay):  "
   ]
  },
  {
   "cell_type": "markdown",
   "metadata": {},
   "source": [
    "'self' is always the first argument although is not required to name it as self. But conventionally, this is how programmers naming it."
   ]
  },
  {
   "cell_type": "raw",
   "metadata": {},
   "source": [
    "        self.first_name = first_name"
   ]
  },
  {
   "cell_type": "markdown",
   "metadata": {},
   "source": [
    "Take note that the left 'first_name' or the self.first_name is an attribute of the class and the right 'first_name' is an argument inside def __init__(). They are not required to be the same, say:"
   ]
  },
  {
   "cell_type": "raw",
   "metadata": {},
   "source": [
    "        self.first_name = first\n",
    "        self.firstName = first_name"
   ]
  },
  {
   "cell_type": "markdown",
   "metadata": {},
   "source": [
    "It is just conventional to programmers to use the same words in attributes and arguments"
   ]
  },
  {
   "cell_type": "raw",
   "metadata": {},
   "source": [
    "        self.last_name = last_name\n",
    "        self.email = '{}_{}@gmail.com'.format(first_name,last_name)\n",
    "        self.pay = pay"
   ]
  },
  {
   "cell_type": "markdown",
   "metadata": {},
   "source": [
    "##### Full code:"
   ]
  },
  {
   "cell_type": "code",
   "execution_count": 6,
   "metadata": {},
   "outputs": [],
   "source": [
    "class Employee:\n",
    "    raise_percentage = 5\n",
    "    num_employees = 0\n",
    "\n",
    "    def __init__(self, first_name, last_name, pay):  \n",
    "        self.first_name = first_name\n",
    "        self.last_name = last_name\n",
    "        self.email = '{}_{}@gmail.com'.format(first_name,last_name)\n",
    "        self.pay = pay"
   ]
  },
  {
   "cell_type": "markdown",
   "metadata": {},
   "source": [
    "                                    <intentional space> "
   ]
  },
  {
   "cell_type": "markdown",
   "metadata": {},
   "source": [
    "### Creating Instances"
   ]
  },
  {
   "cell_type": "markdown",
   "metadata": {},
   "source": [
    "Creating instances or giving birth!"
   ]
  },
  {
   "cell_type": "code",
   "execution_count": 7,
   "metadata": {},
   "outputs": [],
   "source": [
    "employee1 = Employee('Bob', 'Charlie', 30)\n",
    "employee2 = Employee('Amy', 'Donald', 30)"
   ]
  },
  {
   "cell_type": "code",
   "execution_count": 8,
   "metadata": {},
   "outputs": [
    {
     "name": "stdout",
     "output_type": "stream",
     "text": [
      "Bob_Charlie@gmail.com\n"
     ]
    }
   ],
   "source": [
    "# Printing the email\n",
    "print(employee1.email)"
   ]
  },
  {
   "cell_type": "markdown",
   "metadata": {},
   "source": [
    "                                    <intentional space> "
   ]
  },
  {
   "cell_type": "markdown",
   "metadata": {},
   "source": [
    "### Methods"
   ]
  },
  {
   "cell_type": "code",
   "execution_count": 9,
   "metadata": {},
   "outputs": [
    {
     "name": "stdout",
     "output_type": "stream",
     "text": [
      "Bob Charlie\n"
     ]
    }
   ],
   "source": [
    "# Now moving to methods, say we want to print the full name of our employees.\n",
    "print('{} {}'.format(employee1.first_name, employee1.last_name))"
   ]
  },
  {
   "cell_type": "raw",
   "metadata": {},
   "source": [
    "However, again, if we want to print out another employees name, we would have to write the whole\n",
    "\n",
    "print('{} {}'.format(employee1.first_name, employee1.last_name))\n",
    "\n",
    "code again. And this is where METHODS comes into play: "
   ]
  },
  {
   "cell_type": "raw",
   "metadata": {},
   "source": [
    "    def fullname(self):\n",
    "        print('{} {}'.format(self.first_name, self.last_name))"
   ]
  },
  {
   "cell_type": "markdown",
   "metadata": {},
   "source": [
    "##### Full code:"
   ]
  },
  {
   "cell_type": "code",
   "execution_count": 10,
   "metadata": {},
   "outputs": [],
   "source": [
    "class Employee:\n",
    "    raise_percentage = 5\n",
    "    num_employees = 0\n",
    "\n",
    "    def __init__(self, first_name, last_name, pay):  \n",
    "        self.first_name = first_name\n",
    "        self.last_name = last_name\n",
    "        self.email = '{}_{}@gmail.com'.format(first_name,last_name)\n",
    "        self.pay = pay\n",
    "    def fullname(self):\n",
    "        print('{} {}'.format(self.first_name, self.last_name))\n",
    "\n",
    "employee1 = Employee('Bob', 'Charlie', 30)\n",
    "employee2 = Employee('Amy', 'Donald', 30)"
   ]
  },
  {
   "cell_type": "markdown",
   "metadata": {},
   "source": [
    "Printing the employee's fullname using METHODS:"
   ]
  },
  {
   "cell_type": "code",
   "execution_count": 11,
   "metadata": {
    "scrolled": false
   },
   "outputs": [
    {
     "name": "stdout",
     "output_type": "stream",
     "text": [
      "Bob Charlie\n",
      "Amy Donald\n"
     ]
    }
   ],
   "source": [
    "employee1.fullname()\n",
    "employee2.fullname()"
   ]
  },
  {
   "cell_type": "markdown",
   "metadata": {},
   "source": [
    "Now instead of typing the whole code. We just have to call the proper self to print the full name."
   ]
  },
  {
   "cell_type": "markdown",
   "metadata": {},
   "source": [
    "                                    <intentional space> "
   ]
  },
  {
   "cell_type": "markdown",
   "metadata": {},
   "source": [
    "### Two Way Methods\n",
    "There are two ways to call a method inside a class:"
   ]
  },
  {
   "cell_type": "markdown",
   "metadata": {},
   "source": [
    "* INSTANCE.METHOD\n"
   ]
  },
  {
   "cell_type": "code",
   "execution_count": 12,
   "metadata": {},
   "outputs": [
    {
     "name": "stdout",
     "output_type": "stream",
     "text": [
      "Bob Charlie\n"
     ]
    }
   ],
   "source": [
    "employee1.fullname()   # employee1 = Instance\n",
    "                       # fullname() = Method"
   ]
  },
  {
   "cell_type": "markdown",
   "metadata": {},
   "source": [
    "* CLASS.METHOD(INSTANCE)\n"
   ]
  },
  {
   "cell_type": "code",
   "execution_count": 13,
   "metadata": {},
   "outputs": [
    {
     "name": "stdout",
     "output_type": "stream",
     "text": [
      "Bob Charlie\n"
     ]
    }
   ],
   "source": [
    "Employee.fullname(employee1) # Employee = Class\n",
    "                             # fullname = Method\n",
    "                             # employee1 = Instance"
   ]
  },
  {
   "cell_type": "markdown",
   "metadata": {},
   "source": [
    "                                    <intentional space> "
   ]
  },
  {
   "cell_type": "markdown",
   "metadata": {},
   "source": [
    "### Class Variables\n",
    "\n",
    "Say we want to increase the wages of our employees and clearly not all employees would have the same increase every year. So say for example, that the company offers a standard increase of 5% each year. And a bonus of another 5% to those outstanding employees. And we want to print out their new salary after the increase."
   ]
  },
  {
   "cell_type": "raw",
   "metadata": {},
   "source": [
    "employee1.apply_raise()\n",
    "employee2.apply_raise()"
   ]
  },
  {
   "cell_type": "markdown",
   "metadata": {},
   "source": [
    "And say, employee2 is outstanding and employee1 is not. And so we need to change 'raise_percentage' value for employee2. However, changing class variable would change for employee1 as well."
   ]
  },
  {
   "cell_type": "raw",
   "metadata": {},
   "source": [
    "Employee.raise_percentage = 10 \n",
    "employee1.apply_raise()\n",
    "employee2.apply_raise()"
   ]
  },
  {
   "cell_type": "markdown",
   "metadata": {},
   "source": [
    "##### Full code:"
   ]
  },
  {
   "cell_type": "code",
   "execution_count": 14,
   "metadata": {},
   "outputs": [
    {
     "name": "stdout",
     "output_type": "stream",
     "text": [
      "33.0\n",
      "33.0\n"
     ]
    }
   ],
   "source": [
    "class Employee:\n",
    "    raise_percentage = 5\n",
    "    num_employees = 0\n",
    "\n",
    "    def __init__(self, first_name, last_name, pay):  \n",
    "        self.first_name = first_name\n",
    "        self.last_name = last_name\n",
    "        self.email = '{}_{}@gmail.com'.format(first_name,last_name)\n",
    "        self.pay = pay\n",
    "    def fullname(self):\n",
    "        print('{} {}'.format(self.first_name, self.last_name))\n",
    "        \n",
    "    def apply_raise(self):\n",
    "        self.pay = float(self.pay*(100+self.raise_percentage)/100)\n",
    "        # Take note that we can't access 'raise_percentage' as it will throw an error.\n",
    "        # Class Variables could be accessed using 3 ways:\n",
    "\n",
    "        # CLASS.VARIABLE -> Employee.raise_percentage\n",
    "        # INSTANCE.VARIABLE -> employee1.raise_percentage\n",
    "        # self.VARIABLE -> self.raise_percentage\n",
    "\n",
    "        # INSTANCE.VARIABLE and self.VARIABLE has no difference except that self is for all instances\n",
    "        # while INSTANCE.VARIABLE is for that specific INSTANCE\n",
    "        print(self.pay)\n",
    "\n",
    "employee1 = Employee('Bob', 'Charlie', 30)\n",
    "employee2 = Employee('Amy', 'Donald', 30)\n",
    "\n",
    "Employee.raise_percentage = 10 \n",
    "employee1.apply_raise()\n",
    "employee2.apply_raise()"
   ]
  },
  {
   "cell_type": "markdown",
   "metadata": {},
   "source": [
    "Well, instead of changing the class variable, we could add the class variable as an attribute to an instance. Using .__dict__ will show the attributes of class or a instance. To check all attributes of instance employee1 and class Employee:"
   ]
  },
  {
   "cell_type": "raw",
   "metadata": {},
   "source": [
    "print('INSTANCE ATTRIB: {}'.format(employee1.__dict__))\n",
    "print('\\n')\n",
    "print('INSTANCE ATTRIB: {}'.format(employee2.__dict__))\n",
    "print('\\n')\n",
    "print('CLASS ATTRIB: {}'.format(Employee.__dict__))"
   ]
  },
  {
   "cell_type": "markdown",
   "metadata": {},
   "source": [
    "##### Full code:"
   ]
  },
  {
   "cell_type": "code",
   "execution_count": 15,
   "metadata": {},
   "outputs": [
    {
     "name": "stdout",
     "output_type": "stream",
     "text": [
      "INSTANCE ATTRIB: {'first_name': 'Bob', 'last_name': 'Charlie', 'email': 'Bob_Charlie@gmail.com', 'pay': 30}\n",
      "\n",
      "\n",
      "INSTANCE ATTRIB: {'first_name': 'Amy', 'last_name': 'Donald', 'email': 'Amy_Donald@gmail.com', 'pay': 30}\n",
      "\n",
      "\n",
      "CLASS ATTRIB: {'__module__': '__main__', 'raise_percentage': 5, 'num_employees': 0, '__init__': <function Employee.__init__ at 0x0000027AF5FE7D90>, 'fullname': <function Employee.fullname at 0x0000027AF5FE7730>, 'apply_raise': <function Employee.apply_raise at 0x0000027AF5FE77B8>, '__dict__': <attribute '__dict__' of 'Employee' objects>, '__weakref__': <attribute '__weakref__' of 'Employee' objects>, '__doc__': None}\n"
     ]
    }
   ],
   "source": [
    "class Employee:\n",
    "    raise_percentage = 5\n",
    "    num_employees = 0\n",
    "\n",
    "    def __init__(self, first_name, last_name, pay):  \n",
    "        self.first_name = first_name\n",
    "        self.last_name = last_name\n",
    "        self.email = '{}_{}@gmail.com'.format(first_name,last_name)\n",
    "        self.pay = pay\n",
    "    def fullname(self):\n",
    "        print('{} {}'.format(self.first_name, self.last_name))\n",
    "    def apply_raise(self):\n",
    "        self.pay = float(self.pay*(100+self.raise_percentage)/100)\n",
    "        print(self.pay)\n",
    "\n",
    "employee1 = Employee('Bob', 'Charlie', 30)\n",
    "employee2 = Employee('Amy', 'Donald', 30)\n",
    "\n",
    "print('INSTANCE ATTRIB: {}'.format(employee1.__dict__))\n",
    "print('\\n')\n",
    "print('INSTANCE ATTRIB: {}'.format(employee2.__dict__))\n",
    "print('\\n')\n",
    "print('CLASS ATTRIB: {}'.format(Employee.__dict__))"
   ]
  },
  {
   "cell_type": "markdown",
   "metadata": {},
   "source": [
    "We can see that the instance has no attribute raise_percentage but the class have. So we add raise_percentage as attribute for the instance."
   ]
  },
  {
   "cell_type": "markdown",
   "metadata": {},
   "source": [
    "##### Full code:"
   ]
  },
  {
   "cell_type": "code",
   "execution_count": 16,
   "metadata": {},
   "outputs": [
    {
     "name": "stdout",
     "output_type": "stream",
     "text": [
      "INSTANCE ATTRIB: {'first_name': 'Bob', 'last_name': 'Charlie', 'email': 'Bob_Charlie@gmail.com', 'pay': 30, 'raise_percentage': 10}\n",
      "\n",
      "\n",
      "INSTANCE ATTRIB: {'first_name': 'Amy', 'last_name': 'Donald', 'email': 'Amy_Donald@gmail.com', 'pay': 30}\n",
      "\n",
      "\n",
      "CLASS ATTRIB: {'__module__': '__main__', 'raise_percentage': 5, 'num_employees': 0, '__init__': <function Employee.__init__ at 0x0000027AF5FB99D8>, 'fullname': <function Employee.fullname at 0x0000027AF5FB9950>, 'apply_raise': <function Employee.apply_raise at 0x0000027AF5FE7268>, '__dict__': <attribute '__dict__' of 'Employee' objects>, '__weakref__': <attribute '__weakref__' of 'Employee' objects>, '__doc__': None}\n"
     ]
    }
   ],
   "source": [
    "class Employee:\n",
    "    raise_percentage = 5\n",
    "    num_employees = 0\n",
    "\n",
    "    def __init__(self, first_name, last_name, pay):  \n",
    "        self.first_name = first_name\n",
    "        self.last_name = last_name\n",
    "        self.email = '{}_{}@gmail.com'.format(first_name,last_name)\n",
    "        self.pay = pay\n",
    "    def fullname(self):\n",
    "        print('{} {}'.format(self.first_name, self.last_name))\n",
    "    def apply_raise(self):\n",
    "        self.pay = float(self.pay*(100+self.raise_percentage)/100)\n",
    "        print(self.pay)\n",
    "\n",
    "employee1 = Employee('Bob', 'Charlie', 30)\n",
    "employee2 = Employee('Amy', 'Donald', 30)\n",
    "\n",
    "employee1.raise_percentage = 10\n",
    "\n",
    "print('INSTANCE ATTRIB: {}'.format(employee1.__dict__))\n",
    "print('\\n')\n",
    "print('INSTANCE ATTRIB: {}'.format(employee2.__dict__))\n",
    "print('\\n')\n",
    "print('CLASS ATTRIB: {}'.format(Employee.__dict__))"
   ]
  },
  {
   "cell_type": "markdown",
   "metadata": {},
   "source": [
    "And from here we can instance value of raise_percentage without changing the class raise_percentage."
   ]
  },
  {
   "cell_type": "code",
   "execution_count": 17,
   "metadata": {},
   "outputs": [
    {
     "name": "stdout",
     "output_type": "stream",
     "text": [
      "33.0\n",
      "31.5\n"
     ]
    }
   ],
   "source": [
    "employee1.apply_raise()\n",
    "employee2.apply_raise()"
   ]
  },
  {
   "cell_type": "markdown",
   "metadata": {},
   "source": [
    "And lets say we want to count how many employees do we have. We would want to have a function inside __init__ that adds everytime it is being executed."
   ]
  },
  {
   "cell_type": "raw",
   "metadata": {},
   "source": [
    "print(Employee.num_employees)"
   ]
  },
  {
   "cell_type": "markdown",
   "metadata": {},
   "source": [
    "##### Full code:"
   ]
  },
  {
   "cell_type": "code",
   "execution_count": 18,
   "metadata": {
    "scrolled": true
   },
   "outputs": [
    {
     "name": "stdout",
     "output_type": "stream",
     "text": [
      "2\n"
     ]
    }
   ],
   "source": [
    "class Employee:\n",
    "    raise_percentage = 5\n",
    "    num_employees = 0\n",
    "\n",
    "    def __init__(self, first_name, last_name, pay):  \n",
    "        self.first_name = first_name\n",
    "        self.last_name = last_name\n",
    "        self.email = '{}_{}@gmail.com'.format(first_name,last_name)\n",
    "        self.pay = pay\n",
    "        \n",
    "        Employee.num_employees += 1 # Count the number of employee's instances\n",
    "        \n",
    "    def fullname(self):\n",
    "        print('{} {}'.format(self.first_name, self.last_name))\n",
    "    def apply_raise(self):\n",
    "        self.pay = float(self.pay*(100+self.raise_percentage)/100)\n",
    "        print(self.pay)\n",
    "\n",
    "employee1 = Employee('Bob', 'Charlie', 30)\n",
    "employee2 = Employee('Amy', 'Donald', 30)\n",
    "\n",
    "print(Employee.num_employees)\n"
   ]
  },
  {
   "cell_type": "markdown",
   "metadata": {},
   "source": [
    "                                    <intentional space> "
   ]
  },
  {
   "cell_type": "markdown",
   "metadata": {},
   "source": [
    "### Class Methods\n",
    "\n",
    "To explain class methods, static methods. Here is a very informative [tutorial](link).\n",
    "\n",
    "Class Methods can be used to changed value of class variables or act as a some_function + constructor. # Say we want to change the value of raise_percetage to 20. We can do that in two ways:"
   ]
  },
  {
   "cell_type": "markdown",
   "metadata": {},
   "source": [
    "* CLASS.VARIABLE = VALUE\n",
    "\n"
   ]
  },
  {
   "cell_type": "code",
   "execution_count": 19,
   "metadata": {},
   "outputs": [
    {
     "name": "stdout",
     "output_type": "stream",
     "text": [
      "20\n",
      "20\n",
      "20\n"
     ]
    }
   ],
   "source": [
    "Employee.raise_percetage = 20\n",
    "print(Employee.raise_percetage)\n",
    "print(employee1.raise_percetage)\n",
    "print(employee2.raise_percetage)\n"
   ]
  },
  {
   "cell_type": "markdown",
   "metadata": {},
   "source": [
    "* Class Method\n",
    "In order to make a classmethod, we write first @classmethod, then everything is the same except that the first argument is 'cls' and not 'self'. There is really no rule to what should be named for the first argument. But it became a convention by programmers to name the first argument of class method as 'cls'."
   ]
  },
  {
   "cell_type": "raw",
   "metadata": {},
   "source": [
    "employee1.change_raise_percentage(30)\n",
    "print(employee1.raise_percetage)"
   ]
  },
  {
   "cell_type": "markdown",
   "metadata": {},
   "source": [
    "##### Full code:"
   ]
  },
  {
   "cell_type": "code",
   "execution_count": 20,
   "metadata": {},
   "outputs": [
    {
     "name": "stdout",
     "output_type": "stream",
     "text": [
      "30\n",
      "50\n",
      "50\n"
     ]
    }
   ],
   "source": [
    "class Employee:\n",
    "\n",
    "    raise_percentage = 5\n",
    "    num_employees = 0\n",
    "\n",
    "    def __init__(self, first_name, last_name, pay):  \n",
    "        self.first_name = first_name\n",
    "        self.last_name = last_name\n",
    "        self.email = '{}_{}@gmail.com'.format(first_name,last_name)\n",
    "        self.pay = pay\n",
    "        Employee.num_employees += 1\n",
    "\n",
    "    def fullname(self):\n",
    "        print('{} {}'.format(self.first_name, self.last_name))\n",
    "\n",
    "    def apply_raise(self):\n",
    "        self.pay = float(self.pay*(100+self.raise_percentage)/100)\n",
    "        print(self.pay)\n",
    "\n",
    "    @classmethod\n",
    "    def change_raise_percentage(cls, new_raise): # def change_raise_percentage(ARGUMENT1, ARGUMENT2)\n",
    "        cls.raise_percetage = new_raise          # cls.ATTRIBUTE = ARGUMENT2'\n",
    "\n",
    "# Creating instances\n",
    "employee1 = Employee('Bob', 'Charlie', 30)\n",
    "employee2 = Employee('Amy', 'Donald', 30)\n",
    "        \n",
    "employee1.change_raise_percentage(30)\n",
    "print(employee1.raise_percetage)\n",
    "\n",
    "Employee.change_raise_percentage(50)\n",
    "print(Employee.raise_percetage)\n",
    "\n",
    "print(employee2.raise_percetage)"
   ]
  },
  {
   "cell_type": "markdown",
   "metadata": {},
   "source": [
    "\n",
    "Say we have a file that have employees data that looks like this: Bob-Charlie-30. And we want to make a split function and after splitting will automatically create our employee profile."
   ]
  },
  {
   "cell_type": "raw",
   "metadata": {},
   "source": [
    "employee3 = Employee.from_splitstring('Winnie-Poo-10')\n",
    "print(employee3.email)\n",
    "print('\\n')"
   ]
  },
  {
   "cell_type": "markdown",
   "metadata": {},
   "source": [
    "##### Full code:"
   ]
  },
  {
   "cell_type": "code",
   "execution_count": 21,
   "metadata": {
    "scrolled": true
   },
   "outputs": [
    {
     "name": "stdout",
     "output_type": "stream",
     "text": [
      "Winnie_Poo@gmail.com\n",
      "\n",
      "\n"
     ]
    }
   ],
   "source": [
    "class Employee:\n",
    "\n",
    "    raise_percentage = 5\n",
    "    num_employees = 0\n",
    "\n",
    "    def __init__(self, first_name, last_name, pay):  \n",
    "        self.first_name = first_name\n",
    "        self.last_name = last_name\n",
    "        self.email = '{}_{}@gmail.com'.format(first_name,last_name)\n",
    "        self.pay = pay\n",
    "        Employee.num_employees += 1\n",
    "\n",
    "    def fullname(self):\n",
    "        print('{} {}'.format(self.first_name, self.last_name))\n",
    "\n",
    "    def apply_raise(self):\n",
    "        self.pay = float(self.pay*(100+self.raise_percentage)/100)\n",
    "        print(self.pay)\n",
    "\n",
    "    @classmethod\n",
    "    def change_raise_percentage(cls, new_raise): # def change_raise_percentage(ARGUMENT1, ARGUMENT2)\n",
    "        cls.raise_percetage = new_raise          # cls.ATTRIBUTE = ARGUMENT2'\n",
    "\n",
    "    @classmethod   # This is called 'DECORATOR'\n",
    "    def from_splitstring(cls, employee_string): # It is again a common convention that programmers name their \n",
    "                                                # constructor class methods as something that starts with 'from_(WHAT_FUNCTION)'\n",
    "        first_name, last_name, pay = employee_string.split('-')\n",
    "        return cls(first_name, last_name, pay)\n",
    "    \n",
    "# Creating instances\n",
    "employee1 = Employee('Bob', 'Charlie', 30)\n",
    "employee2 = Employee('Amy', 'Donald', 30)\n",
    "        \n",
    "employee3 = Employee.from_splitstring('Winnie-Poo-10')\n",
    "print(employee3.email)\n",
    "print('\\n')"
   ]
  },
  {
   "cell_type": "markdown",
   "metadata": {},
   "source": [
    "                                    <intentional space> "
   ]
  },
  {
   "cell_type": "markdown",
   "metadata": {},
   "source": [
    "### Static Methods\n",
    "\n",
    "Static methods are functions that are written inside the class but don't use any instances or attributes. In other words, it doesn't need to have 'self' or 'cls' as its first argument.\n",
    "So for example, we wanted to know if a certain date is a workday or not and we want it to include in our Employee class then, we should make it as static method."
   ]
  },
  {
   "cell_type": "raw",
   "metadata": {},
   "source": [
    "import datetime\n",
    "\n",
    "my_date = datetime.date(2019, 8, 5)\n",
    "print(Employee.check_workday(my_date))"
   ]
  },
  {
   "cell_type": "markdown",
   "metadata": {},
   "source": [
    "##### Full code:"
   ]
  },
  {
   "cell_type": "code",
   "execution_count": 22,
   "metadata": {
    "scrolled": true
   },
   "outputs": [
    {
     "name": "stdout",
     "output_type": "stream",
     "text": [
      "True\n"
     ]
    }
   ],
   "source": [
    "import datetime\n",
    "\n",
    "class Employee:\n",
    "\n",
    "    raise_percentage = 5\n",
    "    num_employees = 0\n",
    "\n",
    "    def __init__(self, first_name, last_name, pay):  \n",
    "        self.first_name = first_name\n",
    "        self.last_name = last_name\n",
    "        self.email = '{}_{}@gmail.com'.format(first_name,last_name)\n",
    "        self.pay = pay\n",
    "        Employee.num_employees += 1\n",
    "\n",
    "    def fullname(self):\n",
    "        print('{} {}'.format(self.first_name, self.last_name))\n",
    "\n",
    "    def apply_raise(self):\n",
    "        self.pay = float(self.pay*(100+self.raise_percentage)/100)\n",
    "        print(self.pay)\n",
    "\n",
    "    @classmethod\n",
    "    def change_raise_percentage(cls, new_raise): # def change_raise_percentage(ARGUMENT1, ARGUMENT2)\n",
    "        cls.raise_percetage = new_raise          # cls.ATTRIBUTE = ARGUMENT2'\n",
    "\n",
    "    @classmethod   # This is called 'DECORATOR'\n",
    "    def from_splitstring(cls, employee_string): # It is again a common convention that programmers name their \n",
    "                                                # constructor class methods as something that starts with 'from_(WHAT_FUNCTION)'\n",
    "        first_name, last_name, pay = employee_string.split('-')\n",
    "        return cls(first_name, last_name, pay)\n",
    "    @staticmethod\n",
    "    def check_workday(day):\n",
    "        if day.weekday() == 5 or day.weekday() == 6:\n",
    "            return False\n",
    "        else:\n",
    "            return True\n",
    "        \n",
    "# Creating instances\n",
    "employee1 = Employee('Bob', 'Charlie', 30)\n",
    "employee2 = Employee('Amy', 'Donald', 30)\n",
    "        \n",
    "my_date = datetime.date(2019, 8, 5)\n",
    "print(Employee.check_workday(my_date))"
   ]
  },
  {
   "cell_type": "markdown",
   "metadata": {},
   "source": [
    "                                    <intentional space> "
   ]
  },
  {
   "cell_type": "markdown",
   "metadata": {},
   "source": [
    "### Subclassing\n",
    "\n",
    "Subclassing is useful whenever we have a general class and we want to create a more specific class \n",
    "and inherit the attributes from the general class.\n",
    "\n",
    "Say for our example, we have an Employee class. And we want to hire Developers, Designers, and Engineers to work on our team. Well, each category might need another attribute, say, in the Developers they will need what programming language do they know, in the Engineer, what CAD software do they know and instead of writing a whole new class like this. "
   ]
  },
  {
   "cell_type": "raw",
   "metadata": {},
   "source": [
    "class Developer:\n",
    "\n",
    "    def __init__(self, first_name, last_name, pay, prog_lang, github_repo):  \n",
    "            self.first_name = first_name\n",
    "            self.last_name = last_name\n",
    "            self.email = '{}_{}@gmail.com'.format(first_name,last_name)\n",
    "            self.pay = pay\n",
    "            self.prog_lang = prog_lang\n",
    "            self.github_repo = github_repo\n",
    "class Engineer:\n",
    "\n",
    "    def __init__(self, first_name, last_name, pay, CAD_soft):  \n",
    "            self.first_name = first_name\n",
    "            self.last_name = last_name\n",
    "            self.email = '{}_{}@gmail.com'.format(first_name,last_name)\n",
    "            self.pay = pay\n",
    "            self.prog_lang = prog_lang\n",
    "            self.github_repo = github_repo"
   ]
  },
  {
   "cell_type": "markdown",
   "metadata": {},
   "source": [
    "To avoid that, we could use our Employee class to inherit all the basic attributes and pass them into our new classes."
   ]
  },
  {
   "cell_type": "code",
   "execution_count": 23,
   "metadata": {},
   "outputs": [],
   "source": [
    "class Employee:\n",
    "\n",
    "    raise_percentage = 5\n",
    "\n",
    "    def __init__(self, first_name, last_name, pay):  \n",
    "        self.first_name = first_name\n",
    "        self.last_name = last_name\n",
    "        self.email = '{}_{}@gmail.com'.format(first_name,last_name)\n",
    "        self.pay = pay"
   ]
  },
  {
   "cell_type": "markdown",
   "metadata": {},
   "source": [
    "First is we need to write down the name of the class and pass as argument the PARENT'S CLASS."
   ]
  },
  {
   "cell_type": "raw",
   "metadata": {},
   "source": [
    "class Developer(Employee):"
   ]
  },
  {
   "cell_type": "markdown",
   "metadata": {},
   "source": [
    "Next is we call __init__ and pass all the arguments we would want to have."
   ]
  },
  {
   "cell_type": "raw",
   "metadata": {},
   "source": [
    "def __init__(self, first_name, last_name, pay, prog_lang, github_repo):"
   ]
  },
  {
   "cell_type": "markdown",
   "metadata": {},
   "source": [
    "Then, we INHERIT from our PARENT CLASS / Employee class all our ATTRIBUTES that we want to have from them."
   ]
  },
  {
   "cell_type": "raw",
   "metadata": {},
   "source": [
    "super().__init__(first_name, last_name, pay)    #take note that we are not passing 'self' in this line."
   ]
  },
  {
   "cell_type": "markdown",
   "metadata": {},
   "source": [
    "Although, we could do this in a more familiar fashion.\n",
    "Employee.__init__(self, first_name, last_name, pay).\n",
    "It is recommended to use super() since it is much easier to understand."
   ]
  },
  {
   "cell_type": "markdown",
   "metadata": {},
   "source": [
    "##### Full code:"
   ]
  },
  {
   "cell_type": "code",
   "execution_count": 24,
   "metadata": {
    "scrolled": true
   },
   "outputs": [
    {
     "name": "stdout",
     "output_type": "stream",
     "text": [
      "James_Harden@gmail.com\n"
     ]
    }
   ],
   "source": [
    "class Employee:\n",
    "    raise_percentage = 5\n",
    "    def __init__(self, first_name, last_name, pay):  \n",
    "        self.first_name = first_name\n",
    "        self.last_name = last_name\n",
    "        self.email = '{}_{}@gmail.com'.format(first_name,last_name)\n",
    "        self.pay = pay\n",
    "        \n",
    "class Developer(Employee):\n",
    "    def __init__(self, first_name, last_name, pay, prog_lang, github_repo):\n",
    "        super().__init__(first_name, last_name, pay)   \n",
    "        self.prog_lang = prog_lang\n",
    "        self.github_repo = github_repo\n",
    "\n",
    "dev_1 = Developer('James', 'Harden', 50, 'Python', 10)\n",
    "employee1 = Employee('Bob', 'Charlie', 30)\n",
    "employee2 = Employee('Amy', 'Donald', 30)\n",
    "\n",
    "print(dev_1.email)"
   ]
  },
  {
   "cell_type": "markdown",
   "metadata": {},
   "source": [
    "                                    <intentional space> "
   ]
  },
  {
   "cell_type": "markdown",
   "metadata": {},
   "source": [
    "### Help\n",
    "\n",
    "Help function is used to get the varialbes and functions under a class\n",
    "Uncomment to see function!"
   ]
  },
  {
   "cell_type": "code",
   "execution_count": 25,
   "metadata": {},
   "outputs": [
    {
     "name": "stdout",
     "output_type": "stream",
     "text": [
      "Help on class Developer in module __main__:\n",
      "\n",
      "class Developer(Employee)\n",
      " |  Developer(first_name, last_name, pay, prog_lang, github_repo)\n",
      " |  \n",
      " |  Method resolution order:\n",
      " |      Developer\n",
      " |      Employee\n",
      " |      builtins.object\n",
      " |  \n",
      " |  Methods defined here:\n",
      " |  \n",
      " |  __init__(self, first_name, last_name, pay, prog_lang, github_repo)\n",
      " |      Initialize self.  See help(type(self)) for accurate signature.\n",
      " |  \n",
      " |  ----------------------------------------------------------------------\n",
      " |  Data descriptors inherited from Employee:\n",
      " |  \n",
      " |  __dict__\n",
      " |      dictionary for instance variables (if defined)\n",
      " |  \n",
      " |  __weakref__\n",
      " |      list of weak references to the object (if defined)\n",
      " |  \n",
      " |  ----------------------------------------------------------------------\n",
      " |  Data and other attributes inherited from Employee:\n",
      " |  \n",
      " |  raise_percentage = 5\n",
      "\n",
      "None\n"
     ]
    }
   ],
   "source": [
    "print(help(Developer)) "
   ]
  },
  {
   "cell_type": "markdown",
   "metadata": {},
   "source": [
    "Here we can see at the bottom that we also inherit the class variable raise_percentage = 5. To change that value:"
   ]
  },
  {
   "cell_type": "markdown",
   "metadata": {},
   "source": [
    "* SUBCLASS.VARIABLE = VALUE"
   ]
  },
  {
   "cell_type": "code",
   "execution_count": 26,
   "metadata": {},
   "outputs": [
    {
     "name": "stdout",
     "output_type": "stream",
     "text": [
      "10\n",
      "5\n",
      "5\n"
     ]
    }
   ],
   "source": [
    "Developer.raise_percentage = 10\n",
    "\n",
    "print(dev_1.raise_percentage)\n",
    "print(employee1.raise_percentage)\n",
    "print(employee2.raise_percentage)"
   ]
  },
  {
   "cell_type": "markdown",
   "metadata": {},
   "source": [
    "* Under the Subclass, redefine the variable"
   ]
  },
  {
   "cell_type": "code",
   "execution_count": 27,
   "metadata": {},
   "outputs": [
    {
     "name": "stdout",
     "output_type": "stream",
     "text": [
      "Help on class Developer in module __main__:\n",
      "\n",
      "class Developer(builtins.object)\n",
      " |  Data descriptors defined here:\n",
      " |  \n",
      " |  __dict__\n",
      " |      dictionary for instance variables (if defined)\n",
      " |  \n",
      " |  __weakref__\n",
      " |      list of weak references to the object (if defined)\n",
      " |  \n",
      " |  ----------------------------------------------------------------------\n",
      " |  Data and other attributes defined here:\n",
      " |  \n",
      " |  raise_percentage = 10\n",
      "\n",
      "None\n"
     ]
    }
   ],
   "source": [
    "class Developer:\n",
    "    raise_percentage = 10\n",
    "print(help(Developer))"
   ]
  },
  {
   "cell_type": "markdown",
   "metadata": {},
   "source": [
    "Aside from getting class variables from using help(). We can also see the Method Resolution Order.\n",
    "\n",
    "Method resolution order:\n",
    " |      Developer\n",
    " |      Employee\n",
    " |      builtins.object\n",
    "\n",
    "We can see that the Python will find first the __init__() function from the Developer's class. If its not in the Developer's class, it will try to find under the Employee's class and lastly in the builtins."
   ]
  },
  {
   "cell_type": "markdown",
   "metadata": {},
   "source": [
    "                                    <intentional space> "
   ]
  },
  {
   "cell_type": "markdown",
   "metadata": {},
   "source": [
    "### Passing Instance\n",
    "\n",
    "Passing INSTANCE as ARGUMENT in another INSTANCE. Say we want to have HR in our company and they take note of every Employee. Now we want to find out all the names of the employee in the company that was hired"
   ]
  },
  {
   "cell_type": "markdown",
   "metadata": {},
   "source": [
    "##### Full code:"
   ]
  },
  {
   "cell_type": "code",
   "execution_count": 28,
   "metadata": {},
   "outputs": [],
   "source": [
    "class Employee:\n",
    "    raise_percentage = 5\n",
    "    def __init__(self, first_name, last_name, pay):  \n",
    "        self.first_name = first_name\n",
    "        self.last_name = last_name\n",
    "        self.email = '{}_{}@gmail.com'.format(first_name,last_name)\n",
    "        self.pay = pay\n",
    "\n",
    "class Developer(Employee):\n",
    "    raise_percentage = 10\n",
    "    def __init__(self, first_name, last_name, pay, prog_lang, github_repo):\n",
    "        super().__init__(first_name, last_name, pay)    \n",
    "        self.prog_lang = prog_lang\n",
    "        self.github_repo = github_repo\n",
    "\n",
    "class Engineer(Employee):\n",
    "    raise_percentage = 15\n",
    "    def __init__(self, first_name, last_name, pay, CAD_soft):\n",
    "        super().__init__(first_name, last_name, pay)    \n",
    "        self.CAD_soft = CAD_soft\n",
    "\n",
    "class HR(Employee):\n",
    "    raise_percentage = 8\n",
    "    def __init__(self, first_name, last_name, pay, hired_employees=None):\n",
    "\n",
    "        super().__init__(first_name, last_name, pay)\n",
    "        if hired_employees is None:\n",
    "            self.hired_employees = []\n",
    "        else:\n",
    "            self.hired_employees = hired_employees\n",
    "\n",
    "    def add_employees(self, employee_INSTANCE):\n",
    "        if employee_INSTANCE not in self.hired_employees:\n",
    "            self.hired_employees.append(employee_INSTANCE)\n",
    "\n",
    "    def print_all_employees(self):\n",
    "        for i in range(len(self.hired_employees)):\n",
    "            print(self.hired_employees[i].email)\n",
    "            \n",
    "employee_1 = Employee('Bob', 'Charlie', 30)\n",
    "employee_2 = Employee('Amy', 'Donald', 30)\n",
    "dev_1 = Developer('James', 'Harden', 50, 'Python', 10)\n",
    "dev_2 = Developer('Lebron', 'James', 60, 'C++', 7)\n",
    "eng_1 = Engineer('Steph', 'Curry', 100, 'AutoCad')"
   ]
  },
  {
   "cell_type": "markdown",
   "metadata": {},
   "source": [
    "Take note! \n",
    "An important thing to remember. Here hired_employees is a list but is set default to 'None'. And later will be changed into an empty list 'self.hired_employees = []'. The reason why we did not set the ARGUMENT into just an empty list is: It's not recommended to pass mutable data types such as list and dict in the default argument or in the argument."
   ]
  },
  {
   "cell_type": "code",
   "execution_count": 29,
   "metadata": {},
   "outputs": [],
   "source": [
    "hr_1 = HR('Queen', 'Sarah', 30, [employee_1])"
   ]
  },
  {
   "cell_type": "markdown",
   "metadata": {},
   "source": [
    "Do not forget to enclose the last argument in a list, so that we can define the argument as list."
   ]
  },
  {
   "cell_type": "code",
   "execution_count": 30,
   "metadata": {},
   "outputs": [
    {
     "name": "stdout",
     "output_type": "stream",
     "text": [
      "Bob_Charlie@gmail.com\n"
     ]
    }
   ],
   "source": [
    "hr_1.print_all_employees()\n",
    "hr_1.add_employees(employee_2)"
   ]
  },
  {
   "cell_type": "markdown",
   "metadata": {},
   "source": [
    "We dont enclose them in brackets anymore since we are appending them into the existing list 'self.hired_employees'."
   ]
  },
  {
   "cell_type": "code",
   "execution_count": 31,
   "metadata": {
    "scrolled": true
   },
   "outputs": [
    {
     "name": "stdout",
     "output_type": "stream",
     "text": [
      "Bob_Charlie@gmail.com\n",
      "Amy_Donald@gmail.com\n",
      "James_Harden@gmail.com\n",
      "Lebron_James@gmail.com\n",
      "Steph_Curry@gmail.com\n"
     ]
    }
   ],
   "source": [
    "hr_1.add_employees(dev_1)\n",
    "hr_1.add_employees(dev_2)\n",
    "hr_1.add_employees(eng_1)\n",
    "hr_1.print_all_employees()"
   ]
  },
  {
   "cell_type": "markdown",
   "metadata": {},
   "source": [
    "                                    <intentional space> "
   ]
  },
  {
   "cell_type": "markdown",
   "metadata": {},
   "source": [
    "### Isinstance and Issubclass\n",
    "\n",
    "We can use this functions to know if an instance is an instance of a class and a class is a subclass of a parent's class."
   ]
  },
  {
   "cell_type": "code",
   "execution_count": 32,
   "metadata": {},
   "outputs": [
    {
     "name": "stdout",
     "output_type": "stream",
     "text": [
      "True\n",
      "False\n",
      "True\n",
      "False\n"
     ]
    }
   ],
   "source": [
    "print(isinstance(dev_1, Developer))\n",
    "print(isinstance(eng_1, Developer))\n",
    "print(issubclass(Developer, Employee))\n",
    "print(issubclass(Employee, Developer))"
   ]
  },
  {
   "cell_type": "markdown",
   "metadata": {},
   "source": [
    "                                    <End> "
   ]
  }
 ],
 "metadata": {
  "kernelspec": {
   "display_name": "Python 3",
   "language": "python",
   "name": "python3"
  },
  "language_info": {
   "codemirror_mode": {
    "name": "ipython",
    "version": 3
   },
   "file_extension": ".py",
   "mimetype": "text/x-python",
   "name": "python",
   "nbconvert_exporter": "python",
   "pygments_lexer": "ipython3",
   "version": "3.7.3"
  }
 },
 "nbformat": 4,
 "nbformat_minor": 2
}
