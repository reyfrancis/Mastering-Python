{
 "cells": [
  {
   "cell_type": "markdown",
   "metadata": {},
   "source": [
    "# Files Python\n",
    "An in depth codes with files."
   ]
  },
  {
   "cell_type": "code",
   "execution_count": 1,
   "metadata": {},
   "outputs": [],
   "source": [
    "item = 1\n",
    "\n",
    "def printTut():\n",
    "\tglobal item #Used global variable to increase item value\n",
    "\tif item > 1:\n",
    "\t\tprint('\\n')\n",
    "\tprint('Part: {}'.format(item))\n",
    "\titem += 1"
   ]
  },
  {
   "cell_type": "markdown",
   "metadata": {},
   "source": [
    "* f = open()\n",
    "Remember that whenever we use this method we should always type out.\n",
    "f.close() after using the file since it would cause later issues."
   ]
  },
  {
   "cell_type": "code",
   "execution_count": 2,
   "metadata": {},
   "outputs": [
    {
     "name": "stdout",
     "output_type": "stream",
     "text": [
      "test.txt\n",
      "r\n",
      "mic check 1, 2, 3\n",
      "1\n",
      "2\n",
      "3\n",
      "4\n",
      "5\n",
      "END\n"
     ]
    },
    {
     "data": {
      "text/plain": [
       "<function TextIOWrapper.close()>"
      ]
     },
     "execution_count": 2,
     "metadata": {},
     "output_type": "execute_result"
    }
   ],
   "source": [
    "f = open('test.txt', 'r')\n",
    "print(f.name)\n",
    "print(f.mode)\n",
    "print(f.read())\n",
    "f.close"
   ]
  },
  {
   "cell_type": "markdown",
   "metadata": {},
   "source": [
    "* with open() as f:\n",
    "This method is much preferred since after this line of codes end, the file would be automatically closed without calling the f.close."
   ]
  },
  {
   "cell_type": "code",
   "execution_count": 3,
   "metadata": {},
   "outputs": [
    {
     "name": "stdout",
     "output_type": "stream",
     "text": [
      "test.txt\n",
      "r\n"
     ]
    }
   ],
   "source": [
    "with open('test.txt', 'r') as f:\n",
    "\tprint(f.name)\n",
    "\tprint(f.mode)"
   ]
  },
  {
   "cell_type": "markdown",
   "metadata": {},
   "source": [
    "Now reading the .txt file also have a lot of options."
   ]
  },
  {
   "cell_type": "markdown",
   "metadata": {},
   "source": [
    "* Reading the whole text\n",
    "If we want to read or to store the whole text:"
   ]
  },
  {
   "cell_type": "code",
   "execution_count": 4,
   "metadata": {},
   "outputs": [
    {
     "name": "stdout",
     "output_type": "stream",
     "text": [
      "mic check 1, 2, 3\n",
      "1\n",
      "2\n",
      "3\n",
      "4\n",
      "5\n",
      "END\n"
     ]
    }
   ],
   "source": [
    "with open('test.txt', 'r') as f:\n",
    "\tf_contents = f.read()\n",
    "\tprint(f_contents)"
   ]
  },
  {
   "cell_type": "markdown",
   "metadata": {},
   "source": [
    "* 4. Reading all the lines or storing each line to a list"
   ]
  },
  {
   "cell_type": "code",
   "execution_count": 5,
   "metadata": {},
   "outputs": [
    {
     "name": "stdout",
     "output_type": "stream",
     "text": [
      "mic check 1, 2, 3\n",
      "\n",
      "1\n",
      "\n",
      "2\n",
      "\n",
      "3\n",
      "\n",
      "4\n",
      "\n",
      "5\n",
      "\n",
      "END\n"
     ]
    }
   ],
   "source": [
    "with open('test.txt', 'r') as f:\n",
    "\tnew_list = f.readlines()\n",
    "\n",
    "for i in range(len(new_list)):\n",
    "\tprint(new_list[i])"
   ]
  },
  {
   "cell_type": "markdown",
   "metadata": {},
   "source": [
    "* Reading line by line using readline()\n",
    "Take note that everytime we call readline(), it reads the next line. Much like of appending inside a list."
   ]
  },
  {
   "cell_type": "code",
   "execution_count": 6,
   "metadata": {},
   "outputs": [
    {
     "name": "stdout",
     "output_type": "stream",
     "text": [
      "mic check 1, 2, 3\n",
      "\n",
      "1\n",
      "\n"
     ]
    }
   ],
   "source": [
    "with open('test.txt', 'r') as f:\n",
    "\tprint(f.readline())\n",
    "\tprint(f.readline())"
   ]
  },
  {
   "cell_type": "markdown",
   "metadata": {},
   "source": [
    "* The most efficient way to read line by line is to use for line in f: "
   ]
  },
  {
   "cell_type": "code",
   "execution_count": 7,
   "metadata": {},
   "outputs": [
    {
     "name": "stdout",
     "output_type": "stream",
     "text": [
      "mic check 1, 2, 3\n",
      "\n",
      "1\n",
      "\n",
      "2\n",
      "\n",
      "3\n",
      "\n",
      "4\n",
      "\n",
      "5\n",
      "\n",
      "END\n"
     ]
    }
   ],
   "source": [
    "with open('test.txt', 'r') as f:\n",
    "\tfor line in f:\n",
    "\t\tprint(line)"
   ]
  },
  {
   "cell_type": "markdown",
   "metadata": {},
   "source": [
    "* 7. f.read(number)"
   ]
  },
  {
   "cell_type": "code",
   "execution_count": 8,
   "metadata": {},
   "outputs": [
    {
     "name": "stdout",
     "output_type": "stream",
     "text": [
      "mic check 1,\n"
     ]
    }
   ],
   "source": [
    "with open('test.txt', 'r') as f:\n",
    "\tf_contents = f.read(12)\n",
    "\tprint(f_contents)"
   ]
  },
  {
   "cell_type": "markdown",
   "metadata": {},
   "source": [
    "* f.read(size_to_read)\n",
    "Reading character by character not line by lines"
   ]
  },
  {
   "cell_type": "code",
   "execution_count": 9,
   "metadata": {},
   "outputs": [
    {
     "name": "stdout",
     "output_type": "stream",
     "text": [
      "m\n",
      "i\n",
      "c\n",
      " \n",
      "c\n",
      "h\n",
      "e\n",
      "c\n",
      "k\n",
      " \n",
      "1\n",
      ",\n",
      " \n",
      "2\n",
      ",\n",
      " \n",
      "3\n",
      "1\n",
      "2\n",
      "3\n",
      "4\n",
      "5\n",
      "E\n",
      "N\n",
      "D\n"
     ]
    }
   ],
   "source": [
    "with open('test.txt', 'r') as f:\n",
    "\tf_contents = f.read(1)\n",
    "\n",
    "\twhile len(f_contents) > 0:\n",
    "\t\tif f_contents != '\\n': #This option is to eleminate all the newlines at the end of each line\n",
    "\t\t\tprint(f_contents)\n",
    "\t\tf_contents = f.read(1)"
   ]
  },
  {
   "cell_type": "markdown",
   "metadata": {},
   "source": [
    "* f.tell \n",
    "f.tell() keeps track of where we are relative to the first character."
   ]
  },
  {
   "cell_type": "code",
   "execution_count": 10,
   "metadata": {},
   "outputs": [
    {
     "name": "stdout",
     "output_type": "stream",
     "text": [
      "5\n"
     ]
    }
   ],
   "source": [
    "with open('test.txt', 'r') as f:\n",
    "\tf_contents = f.read(5) # Here we read 5 characters.\n",
    "\tprint(f.tell()) # In which character are we now relative to the first character.\n",
    "\t\t\t\t\t# Since we already read the first 5 characters. Then f.tell() would return 5."
   ]
  },
  {
   "cell_type": "markdown",
   "metadata": {},
   "source": [
    "Now if we try to read again 3 more char."
   ]
  },
  {
   "cell_type": "code",
   "execution_count": 11,
   "metadata": {},
   "outputs": [
    {
     "name": "stdout",
     "output_type": "stream",
     "text": [
      "5\n",
      "hec\n"
     ]
    }
   ],
   "source": [
    "with open('test.txt', 'r') as f:\n",
    "    f_contents = f.read(5)\n",
    "    print(f.tell())   \n",
    "    f_contents = f.read(3)\n",
    "    print(f_contents) # Notice that we start reading from the fifth character."
   ]
  },
  {
   "cell_type": "markdown",
   "metadata": {},
   "source": [
    "To get back reading to start we use f.seek(Starting_Position), we pass '0' into the Starting_Position\n",
    "since we want to start from the very first char."
   ]
  },
  {
   "cell_type": "code",
   "execution_count": 12,
   "metadata": {},
   "outputs": [
    {
     "name": "stdout",
     "output_type": "stream",
     "text": [
      "5\n",
      "hec\n",
      "mic\n"
     ]
    }
   ],
   "source": [
    "with open('test.txt', 'r') as f:\n",
    "    f_contents = f.read(5)\n",
    "    print(f.tell())   \n",
    "    f_contents = f.read(3)\n",
    "    print(f_contents)\n",
    "    f.seek(0)\n",
    "    f_contents = f.read(3)\n",
    "    print(f_contents)"
   ]
  },
  {
   "cell_type": "markdown",
   "metadata": {},
   "source": [
    "* Overwriting to an existing file\n",
    "Here we have a file that has some text pre written inside that says \"Dont overwrite me!\"."
   ]
  },
  {
   "cell_type": "code",
   "execution_count": 13,
   "metadata": {},
   "outputs": [
    {
     "name": "stdout",
     "output_type": "stream",
     "text": [
      "New text: You are being overwritten! HAHA\n"
     ]
    }
   ],
   "source": [
    "with open('overwrite.txt', 'w+') as f:\t\t\n",
    "# After this line of code is executed, the whole text in the file is all deleted or in programming term \"TRUNCATED\".\t\t\t\t\t\t\t\t\t\n",
    "# with open('filename.txt', 'w+') lets you read and write. Just remember that it deletes everything after execution.\n",
    "\tf.write('You are being overwritten! HAHA')\n",
    "\tf.seek(0) # Need to place the index back to the starting point so it can read all the text. Otherwise, will output blank space\n",
    "\tprint('New text: {}'.format(f.read()))"
   ]
  },
  {
   "cell_type": "markdown",
   "metadata": {},
   "source": [
    "* Not Overwriting to an existing file\n",
    "This line of code will write but will NOT truncate or delete all the text after execution."
   ]
  },
  {
   "cell_type": "code",
   "execution_count": 14,
   "metadata": {},
   "outputs": [
    {
     "name": "stdout",
     "output_type": "stream",
     "text": [
      "New text: You are NOT being overwritten! HOHO You are being overwritten! HAHA\n"
     ]
    }
   ],
   "source": [
    "with open('overwrite.txt', 'r+') as f: # will not delete all the text after this line is executed\n",
    "\tf_contents = f.read()\n",
    "\tf.seek(0)\t\n",
    "\tf.write('You are NOT being overwritten! HOHO ')\n",
    "\tf.write(f_contents)\n",
    "\tf.seek(0)\n",
    "\tprint('New text: {}'.format(f.read()))"
   ]
  },
  {
   "cell_type": "markdown",
   "metadata": {},
   "source": [
    "* Appending\n",
    "Instead of overwriting the file. We can append inside the file with open('overwrite.txt', 'a+') as f:"
   ]
  },
  {
   "cell_type": "code",
   "execution_count": 15,
   "metadata": {},
   "outputs": [
    {
     "name": "stdout",
     "output_type": "stream",
     "text": [
      "New text: You are NOT being overwritten! HOHO You are being overwritten! HAHA Appending . . .\n"
     ]
    }
   ],
   "source": [
    "with open('overwrite.txt', 'a+') as f:\n",
    "# Will not delete all the text after this line is executed.\n",
    "# It a+ is only different from r+ in indexing. If you call r+, the index automatically points to the first character\n",
    "# or f.seek(0) while if you call a+, the index points to the last character f.seek(whole_text).\n",
    "\tf.write(' Appending . . .')\n",
    "\tf.seek(0)\n",
    "\tprint('New text: {}'.format(f.read()))"
   ]
  },
  {
   "cell_type": "markdown",
   "metadata": {},
   "source": [
    "To wrap up. There are three additional modes: 'w+', 'r+' and 'a+' aside from 'r' and 'w'. It is also very important to make use of f.seek() and f.tell(). Whenever we call f.read() or f.write(), the index always change depending on much we read or write. So to read all, always call f.seek(0) first before f.read()."
   ]
  },
  {
   "cell_type": "markdown",
   "metadata": {},
   "source": [
    "* Copying line by line to another file.\n",
    "We can make a copy of a file directly, but if we want to copy it line by line, this is how its done."
   ]
  },
  {
   "cell_type": "code",
   "execution_count": 16,
   "metadata": {},
   "outputs": [
    {
     "name": "stdout",
     "output_type": "stream",
     "text": [
      "mic check 1, 2, 3\n",
      "1\n",
      "2\n",
      "3\n",
      "4\n",
      "5\n",
      "END\n"
     ]
    }
   ],
   "source": [
    "with open('test.txt', 'r') as f:\n",
    "\twith open('test_copy.txt', 'w') as g:\t\n",
    "\t# If we already have the test_copy.txt then it will truncate the existing texts with the new texts.\n",
    "\t# However if we dont have yet, it will create test_copy.txt and write the new texts.\t\t\t\t\t\t\t\t\n",
    "\t\tfor line in f:\n",
    "\t\t\tg.write(line)\n",
    "with open('test_copy.txt', 'r') as g:\n",
    "\tprint(g.read())"
   ]
  },
  {
   "cell_type": "markdown",
   "metadata": {},
   "source": [
    "You notice that we copy all the text with newline and NOT something like this 'mic check 1, 2, 312345END'. That is because when we read each line it is being read like this mic check\\n1, 2, 3\\n1\\n2\\n3\\n4\\n5\\nEND' where '\\n' is a single and special character. Try printing:"
   ]
  },
  {
   "cell_type": "code",
   "execution_count": 17,
   "metadata": {},
   "outputs": [
    {
     "name": "stdout",
     "output_type": "stream",
     "text": [
      "\n",
      "\n",
      "mic check\n",
      "1, 2, 3\n",
      "1\n",
      "2\n",
      "3\n",
      "4\n",
      "5\n",
      "END\n"
     ]
    }
   ],
   "source": [
    "print('\\n')\n",
    "print('mic check\\n1, 2, 3\\n1\\n2\\n3\\n4\\n5\\nEND')"
   ]
  },
  {
   "cell_type": "markdown",
   "metadata": {},
   "source": [
    "* Copying picture or other file extensions line by line\n",
    "I have these 3 files. Bootstrap.mp4, Rey.jpg, PythonCookbook.pdf which I will make a copy using text line by line. \n",
    "\n",
    "Note: Files were removed due to inability to upload large documents to github!"
   ]
  },
  {
   "cell_type": "code",
   "execution_count": 18,
   "metadata": {},
   "outputs": [
    {
     "name": "stdout",
     "output_type": "stream",
     "text": [
      "UnicodeDecodeError: utf-8 codec can't decode byte 0xff in position 0: invalid start byte\n"
     ]
    }
   ],
   "source": [
    "# However if we read them line by line, it will throw an error!\n",
    "try:\n",
    "\twith open('Rey.jpg', 'r') as f:\n",
    "\t\twith open('Rey_copy.jpg', 'w') as g:\n",
    "\t\t\tfor line in f:\n",
    "\t\t\t\tg.write(line)\n",
    "except:\n",
    "\tprint('UnicodeDecodeError: utf-8 codec can\\'t decode byte 0xff in position 0: invalid start byte')\n",
    "\n",
    "try:\n",
    "    # So in order to do that, we should read it in binary and write it in binary as well.\n",
    "    with open('Rey.jpg', 'rb') as f:\n",
    "        with open('Rey_copy.jpg', 'wb') as g:\n",
    "            for line in f:\n",
    "                g.write(line)\n",
    "except FileNotFoundError:\n",
    "    pass\n",
    "\n",
    "try:\n",
    "    # And a copy of pdf and mp4 as well.\n",
    "    with open('PythonCookbook.pdf', 'rb') as f:\n",
    "        with open('PythonCookbook_copy.pdf', 'wb') as g:\n",
    "            for line in f:\n",
    "                g.write(line)\n",
    "except FileNotFoundError:\n",
    "    pass\n",
    "\n",
    "try:\n",
    "    with open('Bootstrap.mp4', 'rb') as f:\n",
    "        with open('Bootstrap_copy.mp4', 'wb') as g:\n",
    "            for line in f:\n",
    "                g.write(line)\n",
    "except FileNotFoundError:\n",
    "    pass"
   ]
  },
  {
   "cell_type": "markdown",
   "metadata": {},
   "source": [
    "* Copying picture or other file extensions by specific size.\n",
    "Instead of doing it line by line. We will copy it in specifiz sizes."
   ]
  },
  {
   "cell_type": "code",
   "execution_count": 19,
   "metadata": {},
   "outputs": [],
   "source": [
    "specific_size = 10\n",
    "try: \n",
    "    with open('Rey.jpg', 'rb') as f:\n",
    "        with open('Rey_copy_bysize.jpg', 'wb') as g:\n",
    "            f_contents = f.read(specific_size)\n",
    "            while len(f_contents) > 0:\n",
    "                g.write(f_contents)\n",
    "                f_contents = f.read(specific_size) # Update the value of f_contents. Otherwise will go infinitely.\n",
    "except FileNotFoundError:\n",
    "    pass"
   ]
  },
  {
   "cell_type": "markdown",
   "metadata": {},
   "source": [
    "                                    <End> "
   ]
  }
 ],
 "metadata": {
  "kernelspec": {
   "display_name": "Python 3",
   "language": "python",
   "name": "python3"
  },
  "language_info": {
   "codemirror_mode": {
    "name": "ipython",
    "version": 3
   },
   "file_extension": ".py",
   "mimetype": "text/x-python",
   "name": "python",
   "nbconvert_exporter": "python",
   "pygments_lexer": "ipython3",
   "version": "3.7.3"
  }
 },
 "nbformat": 4,
 "nbformat_minor": 2
}
