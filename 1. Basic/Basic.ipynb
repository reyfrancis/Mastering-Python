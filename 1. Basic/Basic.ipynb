{
 "cells": [
  {
   "cell_type": "markdown",
   "metadata": {},
   "source": [
    "# Basic Python\n",
    "A compilation of basic codes in Python"
   ]
  },
  {
   "cell_type": "markdown",
   "metadata": {},
   "source": [
    "### Using For-Loop to iterate can be done using using multiple lines or a single line."
   ]
  },
  {
   "cell_type": "markdown",
   "metadata": {},
   "source": [
    "* for i in range():"
   ]
  },
  {
   "cell_type": "code",
   "execution_count": 1,
   "metadata": {
    "scrolled": false
   },
   "outputs": [
    {
     "name": "stdout",
     "output_type": "stream",
     "text": [
      "0\n",
      "1\n",
      "2\n",
      "3\n",
      "4\n",
      "5\n",
      "6\n",
      "7\n",
      "8\n",
      "9\n"
     ]
    }
   ],
   "source": [
    "for i in range(10):\n",
    "    print(i)"
   ]
  },
  {
   "cell_type": "markdown",
   "metadata": {},
   "source": [
    "The above can also be done using 1 line of code:\n",
    "* [function for i in range()]"
   ]
  },
  {
   "cell_type": "code",
   "execution_count": 2,
   "metadata": {},
   "outputs": [
    {
     "data": {
      "text/plain": [
       "[None, None, None, None, None, None, None, None, None, None]"
      ]
     },
     "execution_count": 2,
     "metadata": {},
     "output_type": "execute_result"
    }
   ],
   "source": [
    "def doSomething(): # function block\n",
    "    pass;\n",
    "    \n",
    "[doSomething() for i in range(10)]"
   ]
  },
  {
   "cell_type": "markdown",
   "metadata": {},
   "source": [
    "Just take note that we should enclose them in a bracket. Sadly we can't directly use the print function inside the [function for i in range()] method since it will throw an error."
   ]
  },
  {
   "cell_type": "markdown",
   "metadata": {},
   "source": [
    "                                    <intentional space> "
   ]
  },
  {
   "cell_type": "markdown",
   "metadata": {},
   "source": [
    "### Working with Lists\n",
    "List are the one of the programming features that Python supports particularly well. If you use list in other programming language, you don't have quite the flexibility in Python. In much of programming, 'array' is the more general term rather than list."
   ]
  },
  {
   "cell_type": "markdown",
   "metadata": {},
   "source": [
    "* Adding list"
   ]
  },
  {
   "cell_type": "code",
   "execution_count": 3,
   "metadata": {},
   "outputs": [
    {
     "name": "stdout",
     "output_type": "stream",
     "text": [
      "[1, 2, 3, 4, 5, 6, 7]\n"
     ]
    }
   ],
   "source": [
    "list1 = [1, 2, 3]\n",
    "list2 = [4, 5, 6, 7]\n",
    "\n",
    "my_list = list1 + list2 # Adding list\n",
    "print(my_list)"
   ]
  },
  {
   "cell_type": "markdown",
   "metadata": {},
   "source": [
    "* List append"
   ]
  },
  {
   "cell_type": "markdown",
   "metadata": {},
   "source": [
    "Using list.append adds another index from the last index of the list. Say the list has 5 indexes, that is, list[0], list[1], ... list[4], then using append will create another index on list[5]."
   ]
  },
  {
   "cell_type": "code",
   "execution_count": 4,
   "metadata": {},
   "outputs": [
    {
     "name": "stdout",
     "output_type": "stream",
     "text": [
      "[1, 2, 3, 4, 5, 6, 7, 8]\n"
     ]
    }
   ],
   "source": [
    "my_list.append(8)\n",
    "print(my_list)"
   ]
  },
  {
   "cell_type": "markdown",
   "metadata": {},
   "source": [
    "* varname[a:b] or Slicing methods"
   ]
  },
  {
   "cell_type": "code",
   "execution_count": 5,
   "metadata": {},
   "outputs": [
    {
     "name": "stdout",
     "output_type": "stream",
     "text": [
      "[1, 2, 3]\n",
      "[5, 6]\n",
      "[1, 2, 3]\n",
      "[6, 7, 8]\n",
      "[1, 2, 3, 4, 5, 6, 7, 8]\n"
     ]
    }
   ],
   "source": [
    "print(my_list[0:3]) # Get the first 3 elements\n",
    "print(my_list[4:6]) # Get the 5th to 6th element\n",
    "print(my_list[:3]) # Get the first 3 elements\n",
    "print(my_list[-3:]) # Get the last 3 elements\n",
    "print(my_list[:]) # Get all the elements"
   ]
  },
  {
   "cell_type": "markdown",
   "metadata": {},
   "source": [
    "* List of lists"
   ]
  },
  {
   "cell_type": "code",
   "execution_count": 6,
   "metadata": {},
   "outputs": [
    {
     "name": "stdout",
     "output_type": "stream",
     "text": [
      "[1, 2, 3, 4, 5, 6, 7, 8, [1, 2, 3], [4, 5, 6, 7], 'END']\n"
     ]
    }
   ],
   "source": [
    "my_list.append(list1)\n",
    "my_list.append(list2)\n",
    "my_list.append('END')\n",
    "print(my_list)"
   ]
  },
  {
   "cell_type": "markdown",
   "metadata": {},
   "source": [
    "Note: It is okay in Python to have any type of variable inside a list, may it be a float or integer, or string."
   ]
  },
  {
   "cell_type": "markdown",
   "metadata": {},
   "source": [
    "                                    <intentional space> "
   ]
  },
  {
   "cell_type": "markdown",
   "metadata": {},
   "source": [
    "### Printing\n",
    "The print command by default enters carraige return and new line at the end."
   ]
  },
  {
   "cell_type": "code",
   "execution_count": 7,
   "metadata": {
    "scrolled": true
   },
   "outputs": [
    {
     "name": "stdout",
     "output_type": "stream",
     "text": [
      "Pink\n",
      "Octopus\n"
     ]
    }
   ],
   "source": [
    "print('Pink')\n",
    "print('Octopus')"
   ]
  },
  {
   "cell_type": "markdown",
   "metadata": {},
   "source": [
    "The above print statement is the same as manually adding the newline and carriage, as below:"
   ]
  },
  {
   "cell_type": "code",
   "execution_count": 8,
   "metadata": {
    "scrolled": false
   },
   "outputs": [
    {
     "name": "stdout",
     "output_type": "stream",
     "text": [
      "Pink\n",
      "Octopus\n"
     ]
    }
   ],
   "source": [
    "print('Pink', end='')\n",
    "print('\\n \\r', end='')\n",
    "print('Octopus')"
   ]
  },
  {
   "cell_type": "markdown",
   "metadata": {},
   "source": [
    "                                    <intentional space> "
   ]
  },
  {
   "cell_type": "markdown",
   "metadata": {},
   "source": [
    "### String Concatenation\n",
    "Different method for String concatenation."
   ]
  },
  {
   "cell_type": "markdown",
   "metadata": {},
   "source": [
    "* Plus sign\n",
    "One of the most basic ways to concatenate strings to use the 'plus' sign."
   ]
  },
  {
   "cell_type": "code",
   "execution_count": 9,
   "metadata": {},
   "outputs": [
    {
     "name": "stdout",
     "output_type": "stream",
     "text": [
      "Hi Tom\n",
      "Hi Jerry\n"
     ]
    }
   ],
   "source": [
    "names = ['Tom', 'Jerry']\n",
    "\n",
    "for name in names:\n",
    "\tstatement = 'Hi ' + name\n",
    "\tprint(statement)"
   ]
  },
  {
   "cell_type": "markdown",
   "metadata": {},
   "source": [
    "* .join"
   ]
  },
  {
   "cell_type": "markdown",
   "metadata": {},
   "source": [
    "'+' good choice if concatenating only two strings.\n",
    "However if concatenating two or more strings, .join is a better choice."
   ]
  },
  {
   "cell_type": "code",
   "execution_count": 10,
   "metadata": {},
   "outputs": [
    {
     "name": "stdout",
     "output_type": "stream",
     "text": [
      "Hello there Tom\n",
      "Hello there Jerry\n"
     ]
    }
   ],
   "source": [
    "for name in names:\n",
    "\tstatement = ' '.join(['Hello there', name])\n",
    "\tprint(statement)"
   ]
  },
  {
   "cell_type": "markdown",
   "metadata": {},
   "source": [
    "Another example of .join is joining many strings."
   ]
  },
  {
   "cell_type": "code",
   "execution_count": 11,
   "metadata": {},
   "outputs": [
    {
     "name": "stdout",
     "output_type": "stream",
     "text": [
      "Tom, Jerry, Cockcroaches\n"
     ]
    }
   ],
   "source": [
    "names.append('Cockcroaches')\n",
    "print(', '.join(names))"
   ]
  },
  {
   "cell_type": "markdown",
   "metadata": {},
   "source": [
    "* .format\n",
    "If we are concatenating our strings with different variables. \n",
    "This method could be a great choice."
   ]
  },
  {
   "cell_type": "code",
   "execution_count": 12,
   "metadata": {},
   "outputs": [
    {
     "name": "stdout",
     "output_type": "stream",
     "text": [
      "Jerry chases Tom while Oggy fights the Cockcroaches.\n"
     ]
    }
   ],
   "source": [
    "rat = 'Tom'\n",
    "cat = 'Jerry'\n",
    "dog = 'Oggy'\n",
    "Cockcroaches = 'Cockcroaches'\n",
    "print('{} chases {} while {} fights the {}.'.format(cat, rat, dog, Cockcroaches))"
   ]
  },
  {
   "cell_type": "markdown",
   "metadata": {},
   "source": [
    "                                    <intentional space> "
   ]
  },
  {
   "cell_type": "markdown",
   "metadata": {},
   "source": [
    "### Tuples\n",
    "Tuples are very similar to list, however there values can't be changed. Tuples can be made by using parenthesis instead of square brackets."
   ]
  },
  {
   "cell_type": "markdown",
   "metadata": {},
   "source": [
    "We can read an excellent explanation of [Immutable Tuples](/HTML_nb/tuples.html) from O'Reilly."
   ]
  },
  {
   "cell_type": "markdown",
   "metadata": {},
   "source": [
    "* Creating a tuple "
   ]
  },
  {
   "cell_type": "code",
   "execution_count": 13,
   "metadata": {},
   "outputs": [
    {
     "name": "stdout",
     "output_type": "stream",
     "text": [
      "(1, 2, 3, 4, 'END')\n"
     ]
    }
   ],
   "source": [
    "my_tuple = (1, 2, 3, 4, 'END')\n",
    "print(my_tuple)"
   ]
  },
  {
   "cell_type": "markdown",
   "metadata": {},
   "source": [
    "Accesing the value of tuples are just the same with list, however we can never change its values."
   ]
  },
  {
   "cell_type": "markdown",
   "metadata": {},
   "source": [
    "* Slicing a tuple"
   ]
  },
  {
   "cell_type": "code",
   "execution_count": 14,
   "metadata": {},
   "outputs": [
    {
     "name": "stdout",
     "output_type": "stream",
     "text": [
      "(4, 'END')\n"
     ]
    }
   ],
   "source": [
    "print(my_tuple[3:5])   #getting the 4th and 5th element"
   ]
  },
  {
   "cell_type": "markdown",
   "metadata": {},
   "source": [
    "* Appending a tuple"
   ]
  },
  {
   "cell_type": "code",
   "execution_count": 15,
   "metadata": {},
   "outputs": [
    {
     "name": "stdout",
     "output_type": "stream",
     "text": [
      "(1, 2, 3, 4, 'END', 1, 2, 3, 4, 'END')\n"
     ]
    }
   ],
   "source": [
    "my_tuple += my_tuple\n",
    "print(my_tuple)"
   ]
  },
  {
   "cell_type": "markdown",
   "metadata": {},
   "source": [
    "* Changing the value of a tuple"
   ]
  },
  {
   "cell_type": "code",
   "execution_count": 16,
   "metadata": {
    "scrolled": false
   },
   "outputs": [
    {
     "name": "stdout",
     "output_type": "stream",
     "text": [
      "Error changing!\n",
      "Error deleting!\n"
     ]
    }
   ],
   "source": [
    "try:\n",
    "    my_tuple[0] = 'CHANGED'\n",
    "except TypeError:\n",
    "        print('Error changing!')\n",
    "try:\n",
    "    del my_tuple[0]\n",
    "except TypeError:\n",
    "        print('Error deleting!')"
   ]
  },
  {
   "cell_type": "markdown",
   "metadata": {},
   "source": [
    "                                    <intentional space> "
   ]
  },
  {
   "cell_type": "markdown",
   "metadata": {},
   "source": [
    "### Types\n",
    "One of the most important function in python is type."
   ]
  },
  {
   "cell_type": "code",
   "execution_count": 17,
   "metadata": {},
   "outputs": [
    {
     "name": "stdout",
     "output_type": "stream",
     "text": [
      "<class 'float'>\n",
      "<class 'int'>\n",
      "<class 'list'>\n",
      "<class 'str'>\n",
      "<class 'tuple'>\n",
      "<class 'float'>\n"
     ]
    }
   ],
   "source": [
    "PI = 3.1416\n",
    "x = 0\n",
    "my_list = ['Abby', 20]\n",
    "my_tuple = ('Brown', 39, 1.712)\n",
    "\n",
    "print(type(PI))\n",
    "print(type(x))\n",
    "print(type(my_list))\n",
    "print(type(my_list[0]))\n",
    "print(type(my_tuple))\n",
    "print(type(my_tuple[2]))"
   ]
  },
  {
   "cell_type": "markdown",
   "metadata": {},
   "source": [
    "                                    <End> "
   ]
  }
 ],
 "metadata": {
  "kernelspec": {
   "display_name": "Python 3",
   "language": "python",
   "name": "python3"
  },
  "language_info": {
   "codemirror_mode": {
    "name": "ipython",
    "version": 3
   },
   "file_extension": ".py",
   "mimetype": "text/x-python",
   "name": "python",
   "nbconvert_exporter": "python",
   "pygments_lexer": "ipython3",
   "version": "3.7.3"
  }
 },
 "nbformat": 4,
 "nbformat_minor": 2
}
